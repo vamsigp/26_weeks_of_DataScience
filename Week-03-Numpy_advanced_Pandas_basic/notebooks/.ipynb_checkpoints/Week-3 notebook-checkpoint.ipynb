{
 "cells": [
  {
   "cell_type": "markdown",
   "metadata": {},
   "source": [
    "<img src=\"../images/26-weeks-of-data-science-banner.jpg\"/>"
   ]
  },
  {
   "cell_type": "markdown",
   "metadata": {
    "slideshow": {
     "slide_type": "-"
    }
   },
   "source": [
    "![Numpy+Pandas](../images/python_day3.png)\n",
    "Image source:https://blog.thedataincubator.com/2018/02/numpy-and-pandas/\n",
    "\n",
    "# Numpy Advanced & Intro to pandas"
   ]
  },
  {
   "cell_type": "markdown",
   "metadata": {
    "slideshow": {
     "slide_type": "slide"
    }
   },
   "source": [
    "# Program so far \n",
    "***\n",
    "- Python Basics\n",
    "- Python Programming Constructs\n",
    "- Data Structures\n",
    "- Functions\n",
    "- Object Oriented Programming in Python\n",
    "- NumPy\n",
    "- Data Manipulation"
   ]
  },
  {
   "cell_type": "markdown",
   "metadata": {
    "slideshow": {
     "slide_type": "slide"
    }
   },
   "source": [
    "# What are we going to learn today?\n",
    "***\n",
    "- NumPy: A Step Advanced\n",
    "    - Indexing and Selection\n",
    "    - Slicing\n",
    "    - Filters\n",
    "    - Replacing Values\n",
    "<br/><br/>\n",
    "- Pandas\n",
    "    - Why Pandas ?\n",
    "    - Features of Pandas\n",
    "    - Pandas Data Structures\n",
    "    - Pandas Series\n",
    "        - How to create Series ?\n",
    "        - Using index in Series"
   ]
  },
  {
   "cell_type": "markdown",
   "metadata": {
    "slideshow": {
     "slide_type": "slide"
    }
   },
   "source": [
    "<img src=\"../images/icon/Concept-Alert.png\" alt=\"Concept-Alert\" style=\"width: 100px;float:left; margin-right:15px\"/>\n",
    "<br /> \n",
    "\n",
    "# Indexing and Selection\n",
    "***\n",
    "Basic slicing extends Python's basic concept of slicing to N dimensions. Basic slicing occurs when obj is a `:class:` `slice` object (constructed by start:stop:step notation inside of brackets), an integer, or a tuple of slice objects and integers. :const:`Ellipsis` and :const:`newaxis` objects can be interspersed with these as well. In order to remain backward compatible with a common usage in Numeric, basic slicing is also initiated if the selection object is any non-ndarray sequence (such as a :class:`list`) containing :class:`slice` objects.\n",
    "\n",
    "Let us look at  creating an array with numpy and indexing and selection follows from what we have learnt in python"
   ]
  },
  {
   "cell_type": "code",
   "execution_count": 27,
   "metadata": {
    "slideshow": {
     "slide_type": "fragment"
    }
   },
   "outputs": [
    {
     "name": "stdout",
     "output_type": "stream",
     "text": [
      "Array: [0 1 2 3 4 5 6 7 8 9]\n",
      "Element: 5\n",
      "Slice: [1 3 5 7]\n"
     ]
    }
   ],
   "source": [
    "# indexing one dimensional array\n",
    "import numpy as np\n",
    "\n",
    "arr = np.arange(10)\n",
    "print(\"Array:\", arr)\n",
    "\n",
    "# get the element at index 5\n",
    "print(\"Element:\", arr[5])\n",
    "\n",
    "#Get values in a range\n",
    "print(\"Slice:\", arr[1:9:2])"
   ]
  },
  {
   "cell_type": "code",
   "execution_count": 28,
   "metadata": {
    "slideshow": {
     "slide_type": "subslide"
    }
   },
   "outputs": [
    {
     "name": "stdout",
     "output_type": "stream",
     "text": [
      "[[1 2 3]\n",
      " [4 5 6]\n",
      " [7 8 9]]\n",
      "[4 5 6]\n",
      "9\n",
      "3\n"
     ]
    }
   ],
   "source": [
    "# indexing two dimensional array\n",
    "arr = np.array([[1,2,3],[4,5,6],[7,8,9]])\n",
    "                 #0      #1       #2\n",
    "print (arr)\n",
    "print (arr[1])    # select a row\n",
    "print (arr[2][2]) #[row], [column]\n",
    "print (arr[0,2])  # [row, column] "
   ]
  },
  {
   "cell_type": "markdown",
   "metadata": {
    "slideshow": {
     "slide_type": "slide"
    }
   },
   "source": [
    "<img src=\"../images/icon/Use-Case.png\" alt=\"Use-Case\" style=\"width: 100px;float:left; margin-right:15px\"/>\n",
    "<br /> \n",
    "\n",
    "# Let's Recall our Weather Data\n",
    "***\n",
    "```\n",
    "Date/Time,Temp (C),Dew Point Temp (C),Rel Hum (%),Wind Spd (km/h),Visibility (km),Stn Press (kPa)\n",
    "2012-01-01 00:00:00,-1.8,-3.9,86,4,8.0,101.24\n",
    "2012-01-01 01:00:00,-1.8,-3.7,87,4,8.0,101.24\n",
    "2012-01-01 02:00:00,-1.8,-3.4,89,7,4.0,101.26\n",
    "2012-01-01 03:00:00,-1.5,-3.2,88,6,4.0,101.27```"
   ]
  },
  {
   "cell_type": "markdown",
   "metadata": {
    "slideshow": {
     "slide_type": "subslide"
    }
   },
   "source": [
    "\n",
    "### What was the wind speed recorded at 1 AM on 1st January 2012 ?\n",
    "\n",
    "This is exactly a problem of indexing to locate information. Let us begin by reading the data and proceed how to use indexing."
   ]
  },
  {
   "cell_type": "code",
   "execution_count": 29,
   "metadata": {
    "slideshow": {
     "slide_type": "fragment"
    }
   },
   "outputs": [
    {
     "name": "stdout",
     "output_type": "stream",
     "text": [
      "<class 'numpy.ndarray'>\n"
     ]
    }
   ],
   "source": [
    "import numpy as np\n",
    "\n",
    "weather = np.genfromtxt(\"../data/weather_small_2012.csv\", dtype='|S20', skip_header=1, delimiter=\",\")\n",
    "print(type(weather))"
   ]
  },
  {
   "cell_type": "code",
   "execution_count": 30,
   "metadata": {
    "slideshow": {
     "slide_type": "fragment"
    }
   },
   "outputs": [
    {
     "name": "stdout",
     "output_type": "stream",
     "text": [
      "[b'2012-01-01 01:00:00' b'-1.8' b'-3.7' b'87' b'4' b'8.0' b'101.24']\n",
      "b'4'\n",
      "b'4'\n"
     ]
    }
   ],
   "source": [
    "# the time for which information is desired is at the second row in the data set\n",
    "print(weather[1])\n",
    "\n",
    "# wind speed is recorded in the fifth column (index 4)\n",
    "print(weather[1][4])\n",
    "\n",
    "# Alternatively\n",
    "print(weather[1, 4])  # recommended and correct way of doing it"
   ]
  },
  {
   "cell_type": "markdown",
   "metadata": {
    "slideshow": {
     "slide_type": "slide"
    }
   },
   "source": [
    "<img src=\"../images/icon/Technical-Stuff.png\" alt=\"Concept-Alert\" style=\"width: 100px;float:left; margin-right:15px\"/>\n",
    "<br /> \n",
    "\n",
    "# So What is Slicing?\n",
    "***\n",
    "This works very similarly to the Python list. Syntax: **`arr[start:end:step]`**"
   ]
  },
  {
   "cell_type": "code",
   "execution_count": 31,
   "metadata": {
    "slideshow": {
     "slide_type": "fragment"
    }
   },
   "outputs": [
    {
     "name": "stdout",
     "output_type": "stream",
     "text": [
      "[0 1 2 3 4 5 6 7 8 9]\n",
      "[0 1 2]\n",
      "[1 4 7]\n"
     ]
    }
   ],
   "source": [
    "# Slicing one dimensional array\n",
    "arr = np.arange(10)\n",
    "print (arr)\n",
    "\n",
    "print (arr[0:3])\n",
    "\n",
    "# start from first index and get every 3rd elemnt\n",
    "print (arr[1::3])"
   ]
  },
  {
   "cell_type": "code",
   "execution_count": 32,
   "metadata": {
    "slideshow": {
     "slide_type": "subslide"
    }
   },
   "outputs": [
    {
     "name": "stdout",
     "output_type": "stream",
     "text": [
      "[[ 7  8  9]\n",
      " [12 13 14]]\n"
     ]
    }
   ],
   "source": [
    "# Slicing two-dimensional array\n",
    "\n",
    "arr = np.array([[1, 2, 3, 4, 5],\n",
    "                [6, 7, 8, 9, 10],\n",
    "                [11,12,13,14,15]])\n",
    "\n",
    "\n",
    "# 1st row to 2nd row , all columns\n",
    "print(arr[1:3, 1:4])\n",
    "\n",
    "# notice that the output is also a 2d array"
   ]
  },
  {
   "cell_type": "markdown",
   "metadata": {
    "slideshow": {
     "slide_type": "subslide"
    }
   },
   "source": [
    "<img src=\"../images/icon/Use-Case.png\" alt=\"Use-Case\" style=\"width: 100px;float:left; margin-right:15px\"/>\n",
    "<br /> \n",
    "\n",
    "### What were the temperatures, relative humidity and pressure recorded on Jan 6 ?\n",
    "***\n",
    "Hint: Recordings for Jan 6 are from index 120 to 143 inclusive"
   ]
  },
  {
   "cell_type": "code",
   "execution_count": 33,
   "metadata": {
    "scrolled": true,
    "slideshow": {
     "slide_type": "fragment"
    }
   },
   "outputs": [
    {
     "data": {
      "text/plain": [
       "array([[b'-9.6', b'56', b'100.81'],\n",
       "       [b'-10.0', b'55', b'100.81'],\n",
       "       [b'-10.5', b'61', b'100.84'],\n",
       "       [b'-10.6', b'64', b'100.76'],\n",
       "       [b'-11.3', b'68', b'100.7'],\n",
       "       [b'-11.8', b'71', b'100.61'],\n",
       "       [b'-12.0', b'71', b'100.58'],\n",
       "       [b'-14.4', b'85', b'100.52'],\n",
       "       [b'-12.3', b'73', b'100.51'],\n",
       "       [b'-12.5', b'71', b'100.53'],\n",
       "       [b'-12.3', b'72', b'100.47'],\n",
       "       [b'-12.0', b'72', b'100.36'],\n",
       "       [b'-11.7', b'74', b'100.23'],\n",
       "       [b'-11.9', b'74', b'100.13'],\n",
       "       [b'-11.2', b'75', b'100.07'],\n",
       "       [b'-11.5', b'79', b'100.06'],\n",
       "       [b'-11.6', b'78', b'100.1'],\n",
       "       [b'-11.2', b'78', b'100.15'],\n",
       "       [b'-10.5', b'78', b'100.12'],\n",
       "       [b'-10.5', b'79', b'100.13'],\n",
       "       [b'-10.2', b'80', b'100.15'],\n",
       "       [b'-9.5', b'79', b'100.13'],\n",
       "       [b'-9.3', b'79', b'100.16'],\n",
       "       [b'-9.0', b'79', b'100.15']], dtype='|S20')"
      ]
     },
     "execution_count": 33,
     "metadata": {},
     "output_type": "execute_result"
    }
   ],
   "source": [
    "weather[120:144, [1, 3, 6]]"
   ]
  },
  {
   "cell_type": "markdown",
   "metadata": {
    "slideshow": {
     "slide_type": "slide"
    }
   },
   "source": [
    "<img src=\"../images/icon/Concept-Alert.png\" alt=\"Concept-Alert\" style=\"width: 100px;float:left; margin-right:15px\"/>\n",
    "<br /> \n",
    "\n",
    "# Filters\n",
    "***\n",
    "![Filter](../images/filters1.jpg)\n",
    "Image Source:https://pixabay.com/en/yashica-filter-camera-vintage-711794/\n",
    "***\n",
    "Anything that takes in data, processes it, and provides an output\n",
    "\n",
    "Input Data ⟶ Filter ⟶ Output Data"
   ]
  },
  {
   "cell_type": "markdown",
   "metadata": {
    "slideshow": {
     "slide_type": "subslide"
    }
   },
   "source": [
    "## How do I create a Filter?"
   ]
  },
  {
   "cell_type": "code",
   "execution_count": 34,
   "metadata": {
    "slideshow": {
     "slide_type": "fragment"
    }
   },
   "outputs": [
    {
     "name": "stdout",
     "output_type": "stream",
     "text": [
      "[[ True  True  True]\n",
      " [ True False False]\n",
      " [False False False]]\n"
     ]
    }
   ],
   "source": [
    "arr = np.array([[1,2,3],[4,5,6],[7,8,9]])\n",
    "\n",
    "below5_filter = (arr < 5)\n",
    "print(below5_filter)"
   ]
  },
  {
   "cell_type": "markdown",
   "metadata": {
    "slideshow": {
     "slide_type": "subslide"
    }
   },
   "source": [
    "## Using a Filter\n",
    "***\n",
    "A filter can simply be used in an indexing operation (instead of numbers or slices)"
   ]
  },
  {
   "cell_type": "code",
   "execution_count": 35,
   "metadata": {
    "slideshow": {
     "slide_type": "fragment"
    }
   },
   "outputs": [
    {
     "data": {
      "text/plain": [
       "array([1, 2, 3, 4])"
      ]
     },
     "execution_count": 35,
     "metadata": {},
     "output_type": "execute_result"
    }
   ],
   "source": [
    "arr[below5_filter]"
   ]
  },
  {
   "cell_type": "markdown",
   "metadata": {
    "slideshow": {
     "slide_type": "subslide"
    }
   },
   "source": [
    "<img src=\"../images/icon/Use-Case.png\" alt=\"Use-Case\" style=\"width: 100px;float:left; margin-right:15px\"/>\n",
    "<br /> \n",
    "\n",
    "### What were the date/times when the temperature was above 32 degrees and visibility over 30 km ?\n"
   ]
  },
  {
   "cell_type": "code",
   "execution_count": 36,
   "metadata": {
    "slideshow": {
     "slide_type": "fragment"
    }
   },
   "outputs": [
    {
     "data": {
      "text/plain": [
       "array([b'2012-07-13 14:00:00', b'2012-07-14 14:00:00',\n",
       "       b'2012-07-14 15:00:00', b'2012-07-14 16:00:00',\n",
       "       b'2012-07-14 17:00:00'], dtype='|S20')"
      ]
     },
     "execution_count": 36,
     "metadata": {},
     "output_type": "execute_result"
    }
   ],
   "source": [
    "# select the date time column\n",
    "times = weather[:,0]\n",
    "\n",
    "# create filter: temperature over 32 degrees\n",
    "temperature_over_32 = weather[:,1].astype(np.float16) > 32\n",
    "\n",
    "# create filter: visibility above 30 km\n",
    "visibility_over_30 = weather[:,-2].astype(np.float16) > 30\n",
    "\n",
    "# get the times\n",
    "times[temperature_over_32 & visibility_over_30]"
   ]
  },
  {
   "cell_type": "markdown",
   "metadata": {
    "slideshow": {
     "slide_type": "slide"
    }
   },
   "source": [
    "<img src=\"../images/icon/Technical-Stuff.png\" alt=\"Concept-Alert\" style=\"width: 100px;float:left; margin-right:15px\"/>\n",
    "<br /> \n",
    "\n",
    "# Replacing values\n",
    "***\n",
    "We can also use comparisons to replace values in an array, based on certain conditions. The code to do the same is as shown below. The code to replacing values on certain conditions is as follows."
   ]
  },
  {
   "cell_type": "code",
   "execution_count": 37,
   "metadata": {
    "slideshow": {
     "slide_type": "fragment"
    }
   },
   "outputs": [
    {
     "name": "stdout",
     "output_type": "stream",
     "text": [
      "[ 5 10 15 20]\n",
      "[50 50 15 20]\n"
     ]
    }
   ],
   "source": [
    "# Replacing Values\n",
    "import numpy as np\n",
    "\n",
    "vector = np.array([5, 10, 15, 20])\n",
    "print (vector)\n",
    "\n",
    "equal_to_ten_or_five = (vector == 10) | (vector == 5)\n",
    "vector[equal_to_ten_or_five] = 50\n",
    "\n",
    "print (vector)"
   ]
  },
  {
   "cell_type": "markdown",
   "metadata": {},
   "source": [
    "<img src=\"../images/icon/ppt-icons.png\" alt=\"Use-Case\" style=\"width: 100px;float:left; margin-right:15px\"/>\n",
    "<br /> \n",
    "\n",
    "### Mini Challenge - 1\n",
    "***\n",
    "Can you locate the number 5 in the array arr"
   ]
  },
  {
   "cell_type": "code",
   "execution_count": 38,
   "metadata": {},
   "outputs": [],
   "source": [
    "arr = np.array([[1,2,3],[4,5,6],[7,8,9]])"
   ]
  },
  {
   "cell_type": "markdown",
   "metadata": {},
   "source": [
    "<img src=\"../images/icon/Use-Case.png\" alt=\"Use-Case\" style=\"width: 100px;float:left; margin-right:15px\"/>\n",
    "<br /> \n",
    "\n",
    "### Mini Challenge - 2\n",
    "***\n",
    "Now its your turn again. Can you print the first two rows of the array `arr`. Also note that you only have to print the first three columns."
   ]
  },
  {
   "cell_type": "code",
   "execution_count": 39,
   "metadata": {},
   "outputs": [],
   "source": [
    "arr = np.array([[1, 2, 3, 4, 5],\n",
    "                [6, 7, 8, 9, 10],\n",
    "                [11,12,13,14,15]])\n"
   ]
  },
  {
   "cell_type": "code",
   "execution_count": null,
   "metadata": {},
   "outputs": [],
   "source": []
  },
  {
   "cell_type": "markdown",
   "metadata": {},
   "source": [
    "<h1 align='center'>Help us spread the word for 26-Weeks-Of-Data-Science.</h1>\n",
    "***\n",
    "![team](../images/team_resized.jpeg)<br/>\n",
    "We wish to ensure that maximum learners reap the benefits of our study-plan. Please like, share the post below & help us share\n",
    "<br/><br/>\n",
    "<div style=\"text-align: center\"><a href=\"https://www.linkedin.com/feed/update/urn:li:activity:6487273029977112576/\"  class=\"btn-hover color-3\" style=\"text-align: center;background-color: #543d98;padding: 12px 15px;color: #fff!important;border: 0;border-radius: 4px;box-shadow: 2px 2px 2px #999; font-weight: bold;\">HIT HERE TO HELP US SHARE</a></div><br>"
   ]
  },
  {
   "cell_type": "code",
   "execution_count": null,
   "metadata": {},
   "outputs": [],
   "source": []
  },
  {
   "cell_type": "markdown",
   "metadata": {
    "slideshow": {
     "slide_type": "slide"
    }
   },
   "source": [
    "# Introduction to\n",
    "***\n",
    "![Pandas_logo](../images/pandas.png)\n",
    "Image source:https://en.wikipedia.org/wiki/Pandas_(software)\n",
    "***\n",
    "The most widely used Python library for data science"
   ]
  },
  {
   "cell_type": "markdown",
   "metadata": {
    "slideshow": {
     "slide_type": "skip"
    }
   },
   "source": [
    "It has nothing to do with cute bears. Instead it stands for **Pan**el **da**ta - **Pandas**\n",
    "***\n",
    "![cute_pandas](../images/cute_pandas.jpg)\n",
    "Image source:https://wallpaper-house.com/wallpaper-id-399850.php"
   ]
  },
  {
   "cell_type": "markdown",
   "metadata": {
    "slideshow": {
     "slide_type": "subslide"
    }
   },
   "source": [
    "<img src=\"../images/icon/Concept-Alert.png\" alt=\"Concept-Alert\" style=\"width: 100px;float:left; margin-right:15px\"/>\n",
    "<br /> \n",
    "\n",
    "## Why Pandas ?\n",
    "***\n",
    "<img src=\"../images/why-pandas.jpg\" width=\"70%\"/>"
   ]
  },
  {
   "cell_type": "markdown",
   "metadata": {
    "slideshow": {
     "slide_type": "subslide"
    }
   },
   "source": [
    "<img src=\"../images/icon/Concept-Alert.png\" alt=\"Concept-Alert\" style=\"width: 100px;float:left; margin-right:15px\"/>\n",
    "<br /> \n",
    "\n",
    "## Features of Pandas\n",
    "***\n",
    "<img src=\"../images/pandas-features.jpg\" width=\"70%\"/>"
   ]
  },
  {
   "cell_type": "markdown",
   "metadata": {
    "slideshow": {
     "slide_type": "slide"
    }
   },
   "source": [
    "<img src=\"../images/icon/Concept-Alert.png\" alt=\"Concept-Alert\" style=\"width: 100px;float:left; margin-right:15px\"/>\n",
    "<br /> \n",
    "\n",
    "# Pandas Data Structures\n",
    "***\n",
    "<img src=\"../images/pandas-datastructures.jpg\" width=\"70%\"/>"
   ]
  },
  {
   "cell_type": "markdown",
   "metadata": {
    "slideshow": {
     "slide_type": "subslide"
    }
   },
   "source": [
    "<img src=\"../images/icon/Concept-Alert.png\" alt=\"Concept-Alert\" style=\"width: 100px;float:left; margin-right:15px\"/>\n",
    "<br /> \n",
    "\n",
    "# Pandas Series\n",
    "***\n",
    "* Very similar to a NumPy array.\n",
    "\n",
    "* What differentiates the NumPy array from a Series, is that a Series can have axis labels, meaning it can be indexed by a label, instead of just a number location."
   ]
  },
  {
   "cell_type": "markdown",
   "metadata": {
    "slideshow": {
     "slide_type": "subslide"
    }
   },
   "source": [
    "<img src=\"../images/icon/Technical-Stuff.png\" alt=\"Concept-Alert\" style=\"width: 100px;float:left; margin-right:15px\"/>\n",
    "<br /> \n",
    "\n",
    "## How to create a Series?\n",
    "***\n",
    "You can convert a list, numpy array, or dictionary to a Series. To create a series you call the function pd.Series(). Let's see an example of the same.\n",
    "\n",
    "We will create a series from \n",
    "- list\n",
    "- numpy array \n",
    "- dictionary"
   ]
  },
  {
   "cell_type": "code",
   "execution_count": 40,
   "metadata": {
    "slideshow": {
     "slide_type": "fragment"
    }
   },
   "outputs": [
    {
     "name": "stdout",
     "output_type": "stream",
     "text": [
      "0    10\n",
      "1    20\n",
      "2    30\n",
      "dtype: int64\n",
      "RangeIndex(start=0, stop=3, step=1)\n",
      "[10 20 30]\n"
     ]
    }
   ],
   "source": [
    "#creating a pandas series from a list\n",
    "import pandas as pd\n",
    "\n",
    "my_list = [10, 20, 30]\n",
    "series = pd.Series(my_list)\n",
    "\n",
    "print(series)\n",
    "print(series.index)\n",
    "print(series.values)"
   ]
  },
  {
   "cell_type": "code",
   "execution_count": 41,
   "metadata": {
    "slideshow": {
     "slide_type": "fragment"
    }
   },
   "outputs": [
    {
     "data": {
      "text/plain": [
       "a    10\n",
       "b    20\n",
       "c    30\n",
       "dtype: int64"
      ]
     },
     "execution_count": 41,
     "metadata": {},
     "output_type": "execute_result"
    }
   ],
   "source": [
    "# creating a series from numPy Array\n",
    "import numpy as np\n",
    "import pandas as pd\n",
    "\n",
    "index = ['a','b','c']\n",
    "arr = np.array([10,20,30])\n",
    "\n",
    "pd.Series(data=arr,index=index)"
   ]
  },
  {
   "cell_type": "code",
   "execution_count": 42,
   "metadata": {
    "slideshow": {
     "slide_type": "fragment"
    }
   },
   "outputs": [
    {
     "data": {
      "text/plain": [
       "a    10\n",
       "b    20\n",
       "c    30\n",
       "dtype: int64"
      ]
     },
     "execution_count": 42,
     "metadata": {},
     "output_type": "execute_result"
    }
   ],
   "source": [
    "# creating a series from dictionary\n",
    "import pandas as pd\n",
    "\n",
    "d = {'a':10, 'b':20, 'c':30}\n",
    "pd.Series(d)"
   ]
  },
  {
   "cell_type": "markdown",
   "metadata": {
    "slideshow": {
     "slide_type": "slide"
    }
   },
   "source": [
    "<img src=\"../images/icon/Concept-Alert.png\" alt=\"Concept-Alert\" style=\"width: 100px;float:left; margin-right:15px\"/>\n",
    "<br /> \n",
    "\n",
    "## Using Index in a Series\n",
    "***\n",
    "* The key to using a Series is understanding its index.\n",
    "\n",
    "* Pandas makes use of these index names or numbers by allowing for **fast lookups** of information (works like a hash table or dictionary).\n"
   ]
  },
  {
   "cell_type": "code",
   "execution_count": 43,
   "metadata": {
    "slideshow": {
     "slide_type": "subslide"
    }
   },
   "outputs": [
    {
     "name": "stdout",
     "output_type": "stream",
     "text": [
      "1\n"
     ]
    }
   ],
   "source": [
    "# Custom index\n",
    "import pandas as pd\n",
    "ser1 = pd.Series([1,2,3,4], index=['USA', 'Germany','USSR', 'Japan']) \n",
    "ser2 = pd.Series([1,2,5,4], index=['USA', 'Germany','Italy', 'Japan'])   \n",
    "\n",
    "# get the value of 'USA'\n",
    "print(ser1['USA'])"
   ]
  },
  {
   "cell_type": "code",
   "execution_count": 44,
   "metadata": {
    "slideshow": {
     "slide_type": "fragment"
    }
   },
   "outputs": [
    {
     "name": "stdout",
     "output_type": "stream",
     "text": [
      "Germany    4.0\n",
      "Italy      NaN\n",
      "Japan      8.0\n",
      "USA        2.0\n",
      "USSR       NaN\n",
      "dtype: float64\n"
     ]
    }
   ],
   "source": [
    "print(ser1 + ser2)"
   ]
  },
  {
   "cell_type": "code",
   "execution_count": null,
   "metadata": {},
   "outputs": [],
   "source": []
  },
  {
   "cell_type": "markdown",
   "metadata": {
    "slideshow": {
     "slide_type": "subslide"
    }
   },
   "source": [
    "<img src=\"../images/icon/Use-Case.png\" alt=\"Use-Case\" style=\"width: 100px;float:left; margin-right:15px\"/>\n",
    "<br /> \n",
    "\n",
    "### Question: What were the pressure values recorded on Jan 6 ?\n",
    "***\n",
    "Last time we did this, we knew that the recordings for Jan 6 were from index 120 to 143 inclusive.\n",
    "The solution was:\n",
    "\n",
    "    weather[120:144, 6]\n",
    "\n",
    "Can we do it without that knowledge (of indices) this time?"
   ]
  },
  {
   "cell_type": "markdown",
   "metadata": {
    "slideshow": {
     "slide_type": "subslide"
    }
   },
   "source": [
    "<div class=\"alert alert-block alert-success\">**Solution 1: What were the first 5 pressure values recorded on Jan 6 ?**</div>\n"
   ]
  },
  {
   "cell_type": "code",
   "execution_count": 45,
   "metadata": {
    "slideshow": {
     "slide_type": "subslide"
    }
   },
   "outputs": [
    {
     "name": "stdout",
     "output_type": "stream",
     "text": [
      "[b'2012-01-06 00:00:00', b'2012-01-06 01:00:00', b'2012-01-06 02:00:00', b'2012-01-06 03:00:00', b'2012-01-06 04:00:00']\n",
      "----------------------------------------\n",
      "[100.8, 100.8, 100.8, 100.75, 100.7]\n"
     ]
    }
   ],
   "source": [
    "import pandas as pd\n",
    "\n",
    "index = weather[:, 0]\n",
    "pressure_values = weather[:, -1].astype(np.float16)\n",
    "weather_series = pd.Series(pressure_values, index)\n",
    "indices = ['2012-01-06 {:02d}:00:00'.format(i) for i in range(5)]\n",
    "indices = [i.encode() for i in indices]\n",
    "print(indices)\n",
    "\n",
    "print('-' * 40)\n",
    "\n",
    "jan6_pressures = [weather_series[ind] for ind in indices]\n",
    "print(jan6_pressures)"
   ]
  },
  {
   "cell_type": "markdown",
   "metadata": {
    "slideshow": {
     "slide_type": "subslide"
    }
   },
   "source": [
    "<div class=\"alert alert-block alert-success\">**Solution 2: What were the first 5 pressure values recorded on Jan 6 ?**</div>\n",
    "\n",
    "\n",
    "***\n",
    "Surely there must be a better way than using loops and falling back to Python lists?"
   ]
  },
  {
   "cell_type": "code",
   "execution_count": null,
   "metadata": {},
   "outputs": [],
   "source": []
  },
  {
   "cell_type": "code",
   "execution_count": 46,
   "metadata": {
    "slideshow": {
     "slide_type": "subslide"
    }
   },
   "outputs": [
    {
     "name": "stdout",
     "output_type": "stream",
     "text": [
      "[False False False ... False False False]\n",
      "----------------------------------------\n",
      "2012-01-06 00:00:00    100.8125\n",
      "2012-01-06 01:00:00    100.8125\n",
      "2012-01-06 02:00:00    100.8125\n",
      "2012-01-06 03:00:00    100.7500\n",
      "2012-01-06 04:00:00    100.6875\n",
      "dtype: float16\n"
     ]
    }
   ],
   "source": [
    "index = weather[:, 0]\n",
    "pressure_values = weather[:, -1].astype(np.float16)\n",
    "weather_series = pd.Series(pressure_values, index)\n",
    "weather_series.index = [i.decode() for i in weather_series.index]\n",
    "weather_series.index\n",
    "jan6_filter = weather_series.index.str.startswith('2012-01-06')\n",
    "print(jan6_filter)\n",
    "\n",
    "print('-' * 40)\n",
    "\n",
    "jan6_pressures = weather_series[jan6_filter]\n",
    "print(jan6_pressures[:5])"
   ]
  },
  {
   "cell_type": "markdown",
   "metadata": {},
   "source": [
    "<img src=\"../images/icon/Use-Case.png\" alt=\"Use-Case\" style=\"width: 100px;float:left; margin-right:15px\"/>\n",
    "<br /> \n",
    "\n",
    "## Mini Challenge - 3\n",
    "***\n",
    "Can you find the value of 'USSR' from the series ser1"
   ]
  },
  {
   "cell_type": "code",
   "execution_count": 47,
   "metadata": {},
   "outputs": [],
   "source": [
    "import pandas as pd\n",
    "ser1 = pd.Series([1,2,3,4], index=['USA', 'Germany','USSR', 'Japan']) \n",
    "ser2 = pd.Series([1,2,5,4], index=['USA', 'Germany','Italy', 'Japan'])   \n"
   ]
  },
  {
   "cell_type": "markdown",
   "metadata": {
    "slideshow": {
     "slide_type": "slide"
    }
   },
   "source": [
    "# Further Reading\n",
    "***\n",
    "- NumPy documentation: http://www.numpy.org/\n",
    "- Pandas documentation: http://pandas.pydata.org/\n"
   ]
  },
  {
   "cell_type": "markdown",
   "metadata": {
    "slideshow": {
     "slide_type": "slide"
    }
   },
   "source": [
    "<img src=\"../images/icon/Recap.png\" alt=\"Recap\" style=\"width: 100px;float:left; margin-right:15px\"/>\n",
    "<br />\n",
    "\n",
    "# In-session Recap Time\n",
    "***\n",
    "- Indexing and Selection\n",
    "- Slicing\n",
    "- Filters\n",
    "- Replacing Values\n",
    "* Pandas\n",
    "    * Data Structures in Pandas\n",
    "    * Features of Pandas\n",
    "    * Series"
   ]
  },
  {
   "cell_type": "markdown",
   "metadata": {
    "collapsed": true,
    "slideshow": {
     "slide_type": "slide"
    }
   },
   "source": [
    "# Thank You\n",
    "***\n",
    "### Coming up next...\n",
    "***\n",
    "- Pandas Advanced: DataFrame\n",
    "- Visualizing data\n",
    "\n",
    "For more queries - Reach out to academics@greyatom.com "
   ]
  },
  {
   "cell_type": "markdown",
   "metadata": {},
   "source": []
  }
 ],
 "metadata": {
  "celltoolbar": "Slideshow",
  "kernelspec": {
   "display_name": "Python 3",
   "language": "python",
   "name": "python3"
  },
  "language_info": {
   "codemirror_mode": {
    "name": "ipython",
    "version": 3
   },
   "file_extension": ".py",
   "mimetype": "text/x-python",
   "name": "python",
   "nbconvert_exporter": "python",
   "pygments_lexer": "ipython3",
   "version": "3.6.5"
  },
  "toc": {
   "colors": {
    "hover_highlight": "#DAA520",
    "running_highlight": "#FF0000",
    "selected_highlight": "#FFD700"
   },
   "moveMenuLeft": true,
   "nav_menu": {
    "height": "271px",
    "width": "252px"
   },
   "navigate_menu": true,
   "number_sections": true,
   "sideBar": true,
   "threshold": "2",
   "toc_cell": false,
   "toc_position": {
    "height": "664px",
    "left": "0px",
    "right": "1388px",
    "top": "107px",
    "width": "212px"
   },
   "toc_section_display": "block",
   "toc_window_display": true
  }
 },
 "nbformat": 4,
 "nbformat_minor": 2
}
