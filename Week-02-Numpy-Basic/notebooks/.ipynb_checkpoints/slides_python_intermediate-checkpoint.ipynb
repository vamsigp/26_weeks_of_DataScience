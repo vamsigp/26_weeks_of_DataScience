{
 "cells": [
  {
   "cell_type": "markdown",
   "metadata": {},
   "source": [
    "<img src=\"../images/26-weeks-of-data-science-banner.jpg\"/>"
   ]
  },
  {
   "cell_type": "markdown",
   "metadata": {
    "slideshow": {
     "slide_type": "slide"
    }
   },
   "source": [
    "## Program so far..\n",
    "***\n",
    "- Python Basics\n",
    "- Data Types and Data Structures\n",
    "- Python Programming Constructs\n",
    "\n"
   ]
  },
  {
   "cell_type": "markdown",
   "metadata": {
    "slideshow": {
     "slide_type": "slide"
    }
   },
   "source": [
    "## What are we going to learn today?\n",
    "***\n",
    "- CHAPTER 1 - **Modular Programming in Python**\n",
    "    - Functions\n",
    "      - What is a function ?\n",
    "      - `def` statement\n",
    "      - Function arguments\n",
    "      - `return` values\n",
    "      - `lambda` functions<br/><br/>\n",
    "    \n",
    "    - Object Oriented Programming\n",
    "      - Objects\n",
    "      - Class\n",
    "      - Attributes\n",
    "      - Methods\n",
    "      - Instance vs Class vs Static Methods\n",
    "\n",
    "\n",
    "- CHAPTER 2 - **NumPy**\n",
    "    - NumPy Basics\n",
    "    - How to create arrays in Python ?\n",
    "    - Built-in methods in NumPy\n",
    "    - Random Numbers generation\n",
    "    - DATASET :: Analysing weather dataset using NumPy\n",
    "    - Operations  with NumPy arrays"
   ]
  },
  {
   "cell_type": "markdown",
   "metadata": {
    "slideshow": {
     "slide_type": "slide"
    }
   },
   "source": [
    "# CHAPTER - 1 : Modular Programming in Python\n",
    "***\n",
    "- Like all programming languages, Python provides various constructs to enable code reuse <br/><br/>\n",
    "\n",
    "- Python provides functions/methods, classes and modules for reuse"
   ]
  },
  {
   "cell_type": "markdown",
   "metadata": {},
   "source": [
    "<img src=\"../images/icon/Technical-Stuff.png\" alt=\"Technical-Stuff\" style=\"width: 100px;float:left; margin-right:15px\"/>\n",
    "<br />\n",
    "\n",
    "## What is a function?\n",
    "***\n",
    "\n",
    "Formally, a function is a useful device that groups together a set of statements so they can be run more than once. We can also specify parameters that can serve as inputs to the functions.\n",
    "\n",
    "On a more fundamental level, functions allow us to not have to repeatedly write the same code again and again. If you remember back to the lessons on strings and lists, remember that we used a function len() to get the length of a string. Since checking the length of a sequence is a common task you would want to write a function that can do this repeatedly at command.\n",
    "\n",
    "Functions will be one of most basic levels of reusing code in Python, and it will also allow us to start thinking of program design (we will dive much deeper into the ideas of design when we learn about Object Oriented Programming).\n"
   ]
  },
  {
   "cell_type": "markdown",
   "metadata": {
    "slideshow": {
     "slide_type": "subslide"
    }
   },
   "source": [
    "## Function Definition\n",
    "***\n",
    "In the syntax below:\n",
    "- **def** is the keyword used to define functions\n",
    "- arg1...argn, \\*args and \\*\\*kwargs are function parameters (and are optional)\n",
    "- The expression after the `return` keyword is the value returned to the caller (optional)\n",
    "\n",
    "Now lets look at how we can create a function in python"
   ]
  },
  {
   "cell_type": "code",
   "execution_count": 2,
   "metadata": {},
   "outputs": [],
   "source": [
    "def name_of_function(arg1,arg2):\n",
    "    '''\n",
    "    This is where the function's Document String (doc-string) goes\n",
    "    '''\n",
    "    # Do stuff here\n",
    "    #return desired result"
   ]
  },
  {
   "cell_type": "markdown",
   "metadata": {},
   "source": [
    "## def Statements\n",
    "\n",
    "We begin with def then a \n",
    "space followed by the name of the function. Try to keep names relevant, for example len() is a good name for a length() function. Also be careful with names, you wouldn't want to call a function the same name as a built-in function in Python (such as len).\n",
    "\n",
    "Next come a pair of parenthesis with a number of arguments separated by a comma. These arguments are the inputs for your function. You'll be able to use these inputs in your function and reference them. After this you put a colon.\n",
    "\n",
    "Now here is the important step, you must indent to begin the code inside your function correctly. Python makes use of whitespace to organize code. Lots of other programing languages do not do this, so keep that in mind.\n",
    "\n",
    "Next you'll see the doc-string, this is where you write a basic description of the function. Using iPython and iPython Notebooks, you'll be ab;e to read these doc-strings by pressing Shift+Tab after a function name. Doc strings are not necessary for simple functions, but its good practice to put them in so you or other people can easily understand the code you write.\n",
    "\n",
    "After all this you begin writing the code you wish to execute.\n",
    "\n",
    "The best way to learn functions is by going through examples. So let's try to go through examples that relate back to the various objects and data structures we learned about before."
   ]
  },
  {
   "cell_type": "markdown",
   "metadata": {},
   "source": [
    "### Example 1: A simple print 'hello' function\n",
    "In this example we take our first steps to write a working function which prints out 'hello'"
   ]
  },
  {
   "cell_type": "code",
   "execution_count": 3,
   "metadata": {},
   "outputs": [
    {
     "ename": "SyntaxError",
     "evalue": "Missing parentheses in call to 'print'. Did you mean print('hello')? (<ipython-input-3-007885174450>, line 2)",
     "output_type": "error",
     "traceback": [
      "\u001b[0;36m  File \u001b[0;32m\"<ipython-input-3-007885174450>\"\u001b[0;36m, line \u001b[0;32m2\u001b[0m\n\u001b[0;31m    print 'hello'\u001b[0m\n\u001b[0m                ^\u001b[0m\n\u001b[0;31mSyntaxError\u001b[0m\u001b[0;31m:\u001b[0m Missing parentheses in call to 'print'. Did you mean print('hello')?\n"
     ]
    }
   ],
   "source": [
    "def say_hello():\n",
    "    print 'hello'\n",
    "\n",
    "#call the function \n",
    "\n",
    "say_hello()"
   ]
  },
  {
   "cell_type": "markdown",
   "metadata": {
    "slideshow": {
     "slide_type": "subslide"
    }
   },
   "source": [
    "## Function Arguments\n",
    "***\n",
    "- Parameters may or may not have default values (in the example below, 'argn' has default value 3)\n",
    "- A function parameter can be passed either by position or by key/name\n",
    "- A function can accept a variable number of positional arguments (\\*args)\n",
    "- A function can accept a variable number of keyword arguments (\\*\\*kwargs)\n",
    "- Function parameters are passed by object reference\n"
   ]
  },
  {
   "cell_type": "markdown",
   "metadata": {
    "slideshow": {
     "slide_type": "subslide"
    }
   },
   "source": [
    "### Default Arguments / Keyword Arguments\n",
    "***\n",
    "- Default arguments are those arguments which can be changed but their value remains the same if not given. An example of the same is given below.  \n"
   ]
  },
  {
   "cell_type": "code",
   "execution_count": null,
   "metadata": {
    "slideshow": {
     "slide_type": "fragment"
    }
   },
   "outputs": [],
   "source": [
    "def double_the_number(num=1):\n",
    "    return num * 2\n",
    "\n",
    "print(double_the_number())"
   ]
  },
  {
   "cell_type": "markdown",
   "metadata": {},
   "source": [
    "## Positional Arguments\n",
    "***\n",
    "- Positional arguments are those which are not followed by an equal sign (=) and default value. In this we need to provide an argument while calling the function, else we get an error. Here is an example below"
   ]
  },
  {
   "cell_type": "code",
   "execution_count": null,
   "metadata": {},
   "outputs": [],
   "source": [
    "def double_the_number(num):\n",
    "    return num*2\n",
    "\n",
    "print(double_the_number(1))"
   ]
  },
  {
   "cell_type": "markdown",
   "metadata": {},
   "source": [
    "<img src=\"../images/icon/Technical-Stuff.png\" alt=\"Technical-Stuff\" style=\"width: 100px;float:left; margin-right:15px\"/>\n",
    "<br />\n",
    "\n",
    "## Important Tip\n",
    "***\n",
    "- **Positional arguments** will always **precede** **Keyword arguments** while specifying both of them together in the same function. Below is an example of this"
   ]
  },
  {
   "cell_type": "code",
   "execution_count": null,
   "metadata": {},
   "outputs": [],
   "source": [
    "def function_name(arg1, arg2, argn=3, *args, **kwargs):\n",
    "    print(\"This is a function.\")\n",
    "    # Function body here\n",
    "    return value"
   ]
  },
  {
   "cell_type": "markdown",
   "metadata": {
    "slideshow": {
     "slide_type": "subslide"
    }
   },
   "source": [
    "## `return` Values\n",
    "***\n",
    "\n",
    "A Return value is a value that is returned after performing a specific operation in a function. Some advantages and usecases of return values are as follows.\n",
    "- Unlike some other languages, Python allows returning multiple values \n",
    "- However, the multiple values is just a tuple of values\n",
    "- Because of this, the tuple can simply be 'opened' into multiple variables\n",
    "\n",
    "\n"
   ]
  },
  {
   "cell_type": "markdown",
   "metadata": {
    "slideshow": {
     "slide_type": "slide"
    }
   },
   "source": [
    "<img src=\"../images/icon/Concept-Alert.png\" alt=\"Technical-Stuff\" style=\"width: 100px;float:left; margin-right:15px\"/>\n",
    "<br />\n",
    "\n",
    "## Lambda\n",
    "***\n",
    "One of Pythons most useful (and for beginners, confusing) tools is the lambda expression. Lambda expressions allow us to create \"anonymous\" functions. This basically means we can quickly make ad-hoc functions without needing to properly define a function using def.\n",
    "\n",
    "Function objects returned by running lambda expressions work exactly the same as those created and assigned by defs. There is key difference that makes lambda useful in specialized roles:\n",
    "\n",
    "**Lambda's body is a single expression, not a block of statements.**\n",
    "* Python supports the creation of anonymous functions at runtime, using a construct called **`lambda`**\n",
    "* This approach is most commonly used when passing a simple function as an argument to another function.\n",
    "* Lambdas are generally used in conjunction with typical functional concepts like `filter()`, `map()` and `reduce()`.\n",
    "\n",
    "Now Lets slowly break down a lambda expression by deconstructing a function:"
   ]
  },
  {
   "cell_type": "code",
   "execution_count": null,
   "metadata": {},
   "outputs": [],
   "source": [
    "def square(num):\n",
    "    result = num**2\n",
    "    return result\n",
    "square(2)"
   ]
  },
  {
   "cell_type": "markdown",
   "metadata": {},
   "source": [
    "We can actually write this in one line (although it would be bad style to do so)"
   ]
  },
  {
   "cell_type": "code",
   "execution_count": null,
   "metadata": {},
   "outputs": [],
   "source": [
    "def square(num): return num**2"
   ]
  },
  {
   "cell_type": "markdown",
   "metadata": {},
   "source": [
    "This is the form of a function that a lambda expression intends to replicate. A lambda expression can then be written as:"
   ]
  },
  {
   "cell_type": "code",
   "execution_count": null,
   "metadata": {},
   "outputs": [],
   "source": [
    "square_lambda = lambda num: num**2\n",
    "\n",
    "square_lambda(2)"
   ]
  },
  {
   "cell_type": "code",
   "execution_count": null,
   "metadata": {
    "slideshow": {
     "slide_type": "subslide"
    }
   },
   "outputs": [],
   "source": [
    "add_lambda = lambda a,b: a+b\n",
    "\n",
    "add_lambda(2,2)"
   ]
  },
  {
   "cell_type": "markdown",
   "metadata": {
    "slideshow": {
     "slide_type": "subslide"
    }
   },
   "source": [
    "<img src=\"../images/icon/Technical-Stuff.png\" alt=\"Technical-Stuff\" style=\"width: 100px;float:left; margin-right:15px\"/>\n",
    "<br />\n",
    "\n",
    "### `map`\n",
    "***\n",
    "map() is a function that takes in two arguments: a function and a sequence iterable. In the form: map(function, sequence) **`map(function, sequence)`**\n",
    "\n",
    "The first argument is the name of a function and the second a sequence (e.g. a list). map() applies the function to all the elements of the sequence. It returns a new list with the elements changed by function.\n",
    "\n",
    "When we went over list comprehension we created a small expression to convert Fahrenheit to Celsius. Let's do the same here but use map.\n",
    "\n",
    "We'll start with two functions:"
   ]
  },
  {
   "cell_type": "code",
   "execution_count": null,
   "metadata": {},
   "outputs": [],
   "source": [
    "def fahrenheit(T):\n",
    "    return ((float(9)/5)*T + 32)\n",
    "def celsius(T):\n",
    "    return (float(5)/9)*(T-32)\n",
    "    \n",
    "temp = [0, 22.5, 40,100]"
   ]
  },
  {
   "cell_type": "markdown",
   "metadata": {},
   "source": [
    "Now lets see map() in action:"
   ]
  },
  {
   "cell_type": "code",
   "execution_count": null,
   "metadata": {
    "slideshow": {
     "slide_type": "fragment"
    }
   },
   "outputs": [],
   "source": [
    "F_temps = map(fahrenheit, temp)\n",
    "\n",
    "#Show\n",
    "F_temps"
   ]
  },
  {
   "cell_type": "code",
   "execution_count": null,
   "metadata": {},
   "outputs": [],
   "source": [
    "# Convert back\n",
    "map(celsius, F_temps)"
   ]
  },
  {
   "cell_type": "markdown",
   "metadata": {},
   "source": [
    "In the example above we haven't used a lambda expression. By using lambda, we wouldn't have had to define and name the functions fahrenheit() and celsius()."
   ]
  },
  {
   "cell_type": "markdown",
   "metadata": {},
   "source": [
    "<img src=\"../images/icon/Technical-Stuff.png\" alt=\"Technical-Stuff\" style=\"width: 100px;float:left; margin-right:15px\"/>\n",
    "<br />\n",
    "\n",
    "## Important Tip\n",
    "***\n",
    "**`map`** is much more commonly used with lambda expressions since the entire purpose of map() is to save effort on having to create manual **`for `** loops.\n",
    "\n",
    "map() can be applied to more than one iterable. The iterables have to have the same length.\n",
    "\n",
    "For example lets map a lambda expression:\n"
   ]
  },
  {
   "cell_type": "code",
   "execution_count": null,
   "metadata": {},
   "outputs": [],
   "source": [
    "a = [1,2,3,4]\n",
    "b = [5,6,7,8]\n",
    "c = [9,10,11,12]"
   ]
  },
  {
   "cell_type": "code",
   "execution_count": null,
   "metadata": {},
   "outputs": [],
   "source": [
    "result=map(lambda x: (5.0/9)*(x - 32),a)\n",
    "print(list(result))"
   ]
  },
  {
   "cell_type": "markdown",
   "metadata": {},
   "source": [
    "## Data science – a helping hand to Mumbai’s transportation network\n",
    "***\n",
    "<img src=\"../images/pexels-photo-1024x682.jpg\" alt=\"Traffic\" style=\"height: 300px;\"/>\n",
    "\n",
    "### See how transportation management in metros like Mumbai benefit from data science. <a href=\"https://greyatom.com/blog/2018/03/benefits-of-data-science-for-transportation-in-mumbai/\">Read more...</a>"
   ]
  },
  {
   "cell_type": "markdown",
   "metadata": {
    "slideshow": {
     "slide_type": "slide"
    }
   },
   "source": [
    "<img src=\"../images/icon/Concept-Alert.png\" alt=\"Concept-Alert\" style=\"width: 100px;float:left; margin-right:15px\"/>\n",
    "<br />\n",
    "\n",
    "# Object Oriented Programming\n",
    "***\n",
    "\n",
    "Object Oriented Programming (OOP) tends to be one of the major obstacles for beginners when they are first starting to learn Python.\n",
    "\n",
    "There are many,many tutorials and lessons covering OOP so feel free to Google search other lessons too. \n",
    "\n",
    "For this lesson we will construct our knowledge of OOP in Python by building on the following topics:\n",
    "\n",
    "* Objects\n",
    "* Using the *class* keyword\n",
    "* Creating class attributes\n",
    "* Creating methods in a class\n",
    "* Learning about Special Methods for classes\n",
    "\n",
    "What we will basically be doing is exploring how we could create an Object type like a list. We've already learned about how to create functions. So lets explore Objects in general:\n"
   ]
  },
  {
   "cell_type": "markdown",
   "metadata": {},
   "source": [
    "## Objects\n",
    "***\n",
    "\n",
    "In Python, everything is an object. Remember from previous lectures we can use type() to check the type of object something is:"
   ]
  },
  {
   "cell_type": "code",
   "execution_count": null,
   "metadata": {},
   "outputs": [],
   "source": [
    "print type(1)\n",
    "print type([])\n",
    "print type(())\n",
    "print type({})"
   ]
  },
  {
   "cell_type": "markdown",
   "metadata": {},
   "source": [
    "## Class\n",
    "***\n",
    "All of the above, in the previous cell, are objects, so how can we create our own Object types? That is where the **class** keyword comes in.\n",
    "\n",
    "The user defined objects are created using the class keyword. The class is a blueprint that defines a nature of a future object. From classes we can construct instances. An instance is a specific object created from a particular class. \n",
    "\n",
    "Let see how we can use class:"
   ]
  },
  {
   "cell_type": "code",
   "execution_count": null,
   "metadata": {},
   "outputs": [],
   "source": [
    "# Create a new object type called Sample\n",
    "class Sample(object):\n",
    "    pass\n",
    "\n",
    "# Instance of Sample\n",
    "x = Sample()\n",
    "\n",
    "print type(x)"
   ]
  },
  {
   "cell_type": "markdown",
   "metadata": {},
   "source": [
    "Note how x is now the reference to our new instance of a Sample class. In other words, we **instantiate** the Sample class.\n",
    "\n",
    "Inside of the class we currently just have pass. But we can define class attributes and methods.\n",
    "\n",
    "An **attribute** is a characteristic of an object.\n",
    "A **method** is an operation we can perform with the object.\n",
    "\n",
    "For example we can create a class called Dog. An attribute of a dog may be its breed or its name, while a method of a dog may be defined by a .bark() method which returns a sound.\n",
    "\n",
    "Let's get a better understanding of attributes through an example.\n",
    "\n",
    "## Attributes\n",
    "The syntax for creating an attribute is:\n",
    "    \n",
    "    self.attribute = something\n",
    "    \n",
    "There is a special method called:\n",
    "\n",
    "    __init__()\n",
    "\n",
    "which is used to initialize the attributes of an object. For example:"
   ]
  },
  {
   "cell_type": "code",
   "execution_count": null,
   "metadata": {},
   "outputs": [],
   "source": [
    "class Dog(object):\n",
    "    def __init__(self,breed): #self shoud be the first argument always in the __init__ method.\n",
    "        self.breed = breed\n",
    "        \n",
    "sam = Dog(breed='Lab') # Instance 1. Copy one of the class Dog\n",
    "frank = Dog(breed='Huskie') # Instance 2. Copy two of the class Dog"
   ]
  },
  {
   "cell_type": "markdown",
   "metadata": {},
   "source": [
    "Lets break down what we have above.The special method\n",
    "\n",
    "    __init__() \n",
    "\n",
    "is called automatically right after the object has been created:\n",
    "\n",
    "    def __init__(self, breed):\n",
    "Each attribute in a class definition begins with a reference to the instance object. It is by convention named self. The breed is the argument. The value is passed during the class instantiation.\n",
    "\n",
    "     self.breed = breed\n",
    "Now we have created two instances of the Dog class. With two breed types, we can then access these attributes like this:     "
   ]
  },
  {
   "cell_type": "code",
   "execution_count": null,
   "metadata": {},
   "outputs": [],
   "source": [
    "sam.breed"
   ]
  },
  {
   "cell_type": "code",
   "execution_count": null,
   "metadata": {},
   "outputs": [],
   "source": [
    "frank.breed"
   ]
  },
  {
   "cell_type": "markdown",
   "metadata": {},
   "source": [
    "Note how we don't have any parenthesis after breed, this is because it is an attribute and doesn't take any arguments."
   ]
  },
  {
   "cell_type": "markdown",
   "metadata": {},
   "source": [
    "## Methods\n",
    "\n",
    "Methods are functions defined inside the body of a class. They are used to perform operations with the attributes of our objects. Methods are essential in encapsulation concept of the OOP paradigm. This is essential in dividing responsibilities in programming, especially in large applications.\n",
    "\n",
    "You can basically think of methods as functions acting on an Object that take the Object itself into account through its self argument.\n",
    "\n",
    "Let's see the explanation and go through an example of creating a Circle class"
   ]
  },
  {
   "cell_type": "markdown",
   "metadata": {
    "slideshow": {
     "slide_type": "subslide"
    }
   },
   "source": [
    "<img src=\"../images/icon/Concept-Alert.png\" alt=\"Concept-Alert\" style=\"width: 100px;float:left; margin-right:15px\"/>\n",
    "<br />\n",
    "\n",
    "### Explanation\n",
    "***\n",
    "- **`self`** is similar to the **`this`** pointer in other languages, except that (1) it needs to be explicitly passed as the first parameter of the instance method, and (2) is not a reserved keyword\n",
    "\n",
    "- The **`__init__`** method is an initializer (_not_ constructor) and called on instantiation\n",
    "\n",
    "- The **`__str__`** method is equivalent to toString()\n",
    "\n",
    "- The **`__repr__`** method defines how the object is represented on console"
   ]
  },
  {
   "cell_type": "code",
   "execution_count": null,
   "metadata": {},
   "outputs": [],
   "source": [
    "class Circle(object):\n",
    "    pi = 3.14 #This is a Class-Object attribute.\n",
    "              #It remains same for all the methods within the class\n",
    "\n",
    "    # Circle get instantiated with a radius (default is 1)\n",
    "    def __init__(self, radius=1):\n",
    "        self.radius = radius \n",
    "\n",
    "    # Area method calculates the area. Note the use of self.\n",
    "    def area(self):\n",
    "        return self.radius * self.radius * Circle.pi\n",
    "\n",
    "    # Method for resetting Radius\n",
    "    def setRadius(self, radius):\n",
    "        self.radius = radius\n",
    "\n",
    "    # Method for getting radius (Same as just calling .radius)\n",
    "    def getRadius(self):\n",
    "        return self.radius\n",
    "\n",
    "\n",
    "c = Circle()\n",
    "\n",
    "c.setRadius(2)\n",
    "print 'Radius is: ',c.getRadius()\n",
    "print 'Area is: ',c.area()"
   ]
  },
  {
   "cell_type": "code",
   "execution_count": null,
   "metadata": {},
   "outputs": [],
   "source": []
  },
  {
   "cell_type": "markdown",
   "metadata": {
    "slideshow": {
     "slide_type": "subslide"
    }
   },
   "source": [
    "<img src=\"../images/icon/Concept-Alert.png\" alt=\"Concept-Alert\" style=\"width: 100px;float:left; margin-right:15px\"/>\n",
    "<br />\n",
    "\n",
    "## Instance vs Class vs Static Methods\n",
    "***\n",
    "- Instance methods have access to the **instance** of the class\n",
    "- Class methods have access to the **class** (classes are also objects in Python), but not instances. This is similar to the static methods in Java/C#\n",
    "- Static methods have no access to either instances or classes. They are more like plain functions, just bounded with the class for scoping"
   ]
  },
  {
   "cell_type": "code",
   "execution_count": null,
   "metadata": {
    "slideshow": {
     "slide_type": "fragment"
    }
   },
   "outputs": [],
   "source": [
    "class MyClass:\n",
    "    def instance_method(self):\n",
    "        print('instance method called', self)\n",
    "\n",
    "    @classmethod\n",
    "    def class_method(cls):\n",
    "        print('class method called', cls)\n",
    "\n",
    "    @staticmethod\n",
    "    def static_method():\n",
    "        print('static method called')\n",
    "\n",
    "obj = MyClass()\n",
    "\n",
    "obj.instance_method()\n",
    "MyClass.class_method()\n",
    "MyClass.static_method()"
   ]
  },
  {
   "cell_type": "markdown",
   "metadata": {},
   "source": [
    "<img src=\"../images/icon/ppt-icons.png\" alt=\"Technical-Stuff\" style=\"width: 100px;float:left; margin-right:15px\"/>\n",
    "<br />\n",
    "\n",
    "### Mini Challenge - 1\n",
    "***\n",
    "Can you write a function square_root having default value of input a=9 and find the square-root of the same."
   ]
  },
  {
   "cell_type": "code",
   "execution_count": null,
   "metadata": {},
   "outputs": [],
   "source": []
  },
  {
   "cell_type": "markdown",
   "metadata": {},
   "source": [
    "<img src=\"../images/icon/ppt-icons.png\" alt=\"Technical-Stuff\" style=\"width: 100px;float:left; margin-right:15px\"/>\n",
    "<br />\n",
    "\n",
    "### Mini Challenge - 2\n",
    "***\n",
    "Can you write a function function_tuple that takes in two numbers a and b and returns the sum as well as the product of these numbers"
   ]
  },
  {
   "cell_type": "code",
   "execution_count": null,
   "metadata": {},
   "outputs": [],
   "source": []
  },
  {
   "cell_type": "markdown",
   "metadata": {},
   "source": [
    "<img src=\"../images/icon/ppt-icons.png\" alt=\"Technical-Stuff\" style=\"width: 100px;float:left; margin-right:15px\"/>\n",
    "<br />\n",
    "\n",
    "### Mini Challenge - 3\n",
    "***\n",
    "Can you write a lambda function to add two numbers a and b. "
   ]
  },
  {
   "cell_type": "code",
   "execution_count": null,
   "metadata": {},
   "outputs": [],
   "source": []
  },
  {
   "cell_type": "markdown",
   "metadata": {},
   "source": [
    "# CHAPTER - 2 : NumPy"
   ]
  },
  {
   "cell_type": "markdown",
   "metadata": {
    "slideshow": {
     "slide_type": "slide"
    }
   },
   "source": [
    "## Python Intermediate: NumPy Basics"
   ]
  },
  {
   "cell_type": "markdown",
   "metadata": {
    "slideshow": {
     "slide_type": "subslide"
    }
   },
   "source": [
    "![caption](../images/numpy-logo.jpg)\n",
    "***\n",
    "NumPy, which stands for Numerical Python, is a library consisting of multidimensional array objects and a collection of routines for processing those arrays. Using NumPy, mathematical and logical operations on arrays can be performed. In this part, along with the basics of NumPy such as its architecture and environment, we shall also discuss the various array functions, types of indexing, etc.\n",
    "\n",
    "We can install numpy by `pip install numpy`\n",
    "\n",
    "- Main object: **`ndarray`**"
   ]
  },
  {
   "cell_type": "markdown",
   "metadata": {
    "slideshow": {
     "slide_type": "subslide"
    }
   },
   "source": [
    "<img src=\"../images/icon/Technical-Stuff.png\" alt=\"Technical-Stuff\" style=\"width: 100px;float:left; margin-right:15px\"/>\n",
    "<br />\n",
    "\n",
    "# ndarray\n",
    "***\n",
    "\n",
    "The most important object defined in NumPy is an N-dimensional array type called ndarray. It describes the collection of items of the same type. Items in the collection can be accessed using a zero-based index.\n",
    "\n",
    "Every item in an ndarray takes the same size of block in the memory. Each element in ndarray is an object of data-type object (called dtype).Any item extracted from ndarray object (by slicing) is represented by a Python object of one of array scalar types. An instance of ndarray class can be constructed by different array creation routines described later.\n",
    "\n",
    "You import the function in python by calling `import numpy`. The basic ndarray is created using an array function in NumPy as follows −"
   ]
  },
  {
   "cell_type": "code",
   "execution_count": null,
   "metadata": {
    "scrolled": true
   },
   "outputs": [],
   "source": [
    "import numpy\n",
    "numpy.array"
   ]
  },
  {
   "cell_type": "markdown",
   "metadata": {
    "slideshow": {
     "slide_type": "slide"
    }
   },
   "source": [
    "\n",
    "<img src=\"../images/icon/Concept-Alert.png\" alt=\"Concept-Alert\" style=\"width: 100px;float:left; margin-right:15px\"/>\n",
    "<br />\n",
    "\n",
    "## How do I create Arrays in Python?\n",
    "***\n",
    "* Create an array from a regular Python list or tuple using the array function. \n",
    "\n",
    "* The type of the resulting array is deduced from the type of the elements in the sequences"
   ]
  },
  {
   "cell_type": "markdown",
   "metadata": {},
   "source": [
    "It creates an ndarray from any object exposing array interface, or from any method that returns an array."
   ]
  },
  {
   "cell_type": "code",
   "execution_count": null,
   "metadata": {
    "ExecuteTime": {
     "end_time": "2017-09-25T08:05:43.734658Z",
     "start_time": "2017-09-25T08:05:41.934609Z"
    },
    "slideshow": {
     "slide_type": "fragment"
    }
   },
   "outputs": [],
   "source": [
    "import numpy as np\n",
    "\n",
    "# From list: 1d array\n",
    "my_list = [10, 20, 30]\n",
    "np.array(my_list)"
   ]
  },
  {
   "cell_type": "code",
   "execution_count": null,
   "metadata": {
    "ExecuteTime": {
     "end_time": "2017-09-25T08:05:45.740644Z",
     "start_time": "2017-09-25T08:05:45.724885Z"
    },
    "slideshow": {
     "slide_type": "fragment"
    }
   },
   "outputs": [],
   "source": [
    "# From list: 2d array\n",
    "list_of_lists =  [[5, 10, 15], [20, 25, 30], [35, 40, 45]]\n",
    "np.array(list_of_lists)"
   ]
  },
  {
   "cell_type": "code",
   "execution_count": null,
   "metadata": {},
   "outputs": [],
   "source": [
    "type(np.array(list_of_lists))"
   ]
  },
  {
   "cell_type": "markdown",
   "metadata": {},
   "source": [
    "An example of how does n-dimensional looks"
   ]
  },
  {
   "cell_type": "markdown",
   "metadata": {
    "slideshow": {
     "slide_type": "subslide"
    }
   },
   "source": [
    "## Types\n",
    "\n",
    "![NumPy Array Types](../images/numpy-types1.jpg)"
   ]
  },
  {
   "cell_type": "markdown",
   "metadata": {},
   "source": [
    "`ndarray` is also known by the alias `array`. Note that `numpy.array` is not the same as the Standard Python Library class `array.array`, which only handles one-dimensional arrays and offers less functionality. The more important attributes of an `ndarray` object are:\n",
    "\n",
    "***ndarray.shape***\n",
    "the dimensions of the array. This is a tuple of integers indicating the size of the array in each dimension. For a matrix with n rows and m columns, `shape` will be `(n,m)`. The length of the `shape` tuple is therefore the rank, or number of dimensions,`ndim`.\n",
    "\n",
    "***ndarray.dtype***\n",
    "an object describing the type of the elements in the array. One can create or specify dtype’s using standard Python types. Additionally NumPy provides types of its own. numpy.int32, numpy.int16, and numpy.float64 are some examples.\n",
    "\n",
    "***ndarray.reshape***\n",
    "Returns an array containing the same data with a new shape."
   ]
  },
  {
   "cell_type": "markdown",
   "metadata": {
    "slideshow": {
     "slide_type": "slide"
    }
   },
   "source": [
    "<img src=\"../images/icon/Technical-Stuff.png\" alt=\"Technical-Stuff\" style=\"width: 100px;float:left; margin-right:15px\"/>\n",
    "<br />\n",
    "\n",
    "## numpy.dtype\n",
    "***\n",
    "<br/>\n",
    "The data type or dtype describes the kind of elements that are contained within the array.\n",
    "\n",
    "* **bool**: Boolean values\n",
    "<br/><br/>\n",
    "\n",
    "* **int**: Integer values. Can be int16, int32, or int64.\n",
    "\n",
    "\n",
    "* **float**: Floating point values. Can be float16, float32, or float64.\n",
    "<br/><br/>\n",
    "\n",
    "\n",
    "* ** string**: Text. Can be string or unicode (this distinction is greatly simplified in Python 3)"
   ]
  },
  {
   "cell_type": "markdown",
   "metadata": {
    "slideshow": {
     "slide_type": "subslide"
    }
   },
   "source": [
    "## Let's try it ourselves!\n",
    "***\n",
    "### Create a vector from the list [10, 20, 30]. Print the dtype and shape."
   ]
  },
  {
   "cell_type": "code",
   "execution_count": null,
   "metadata": {
    "ExecuteTime": {
     "end_time": "2017-09-25T07:26:07.823778Z",
     "start_time": "2017-09-25T07:26:07.814463Z"
    },
    "slideshow": {
     "slide_type": "fragment"
    }
   },
   "outputs": [],
   "source": [
    "my_list = [10, 20, 30]\n",
    "\n",
    "arr = np.array(my_list)\n",
    "\n",
    "print(arr.dtype)\n",
    "print(arr.shape)"
   ]
  },
  {
   "cell_type": "markdown",
   "metadata": {
    "slideshow": {
     "slide_type": "subslide"
    }
   },
   "source": [
    "### Important Concepts\n",
    "***\n",
    "#### Rank\n",
    "\n",
    "NumPy’s main object is the homogeneous multidimensional array. It is a table of elements (usually numbers), all of the same type, indexed by a tuple of positive integers. In NumPy dimensions are called axes. The number of axes is rank.\n",
    "\n",
    "For example, the coordinates of a point in 3D space [1, 2, 1] is an array of rank 1, because it has one axis. That axis has a length of 3. "
   ]
  },
  {
   "cell_type": "markdown",
   "metadata": {
    "slideshow": {
     "slide_type": "subslide"
    }
   },
   "source": [
    "In the example below, the array has rank 2 (it is 2-dimensional). The first dimension (axis) has a length of 6, the second dimension has a length of 6."
   ]
  },
  {
   "cell_type": "code",
   "execution_count": null,
   "metadata": {},
   "outputs": [],
   "source": [
    "a =  np.array([[1, 2, 3,4,5,6],[7,8,9,10,11,12]]) \n",
    "print(a)"
   ]
  },
  {
   "cell_type": "code",
   "execution_count": null,
   "metadata": {},
   "outputs": [],
   "source": [
    "print(a.shape)"
   ]
  },
  {
   "cell_type": "markdown",
   "metadata": {
    "slideshow": {
     "slide_type": "slide"
    }
   },
   "source": [
    "# NumPy Built-in methods"
   ]
  },
  {
   "cell_type": "markdown",
   "metadata": {
    "slideshow": {
     "slide_type": "subslide"
    }
   },
   "source": [
    "## `arange`\n",
    "***\n",
    "arange(**[start,]** ***stop[, step,][, dtype]***) : Returns an array with evenly spaced elements as per the interval. The interval mentioned is half opened i.e. **[Start, Stop)** (similar to the Python **`range()`** function)."
   ]
  },
  {
   "cell_type": "code",
   "execution_count": null,
   "metadata": {
    "ExecuteTime": {
     "end_time": "2017-09-25T07:40:59.271637Z",
     "start_time": "2017-09-25T07:40:59.262095Z"
    },
    "slideshow": {
     "slide_type": "fragment"
    }
   },
   "outputs": [],
   "source": [
    "import numpy as np\n",
    "\n",
    "np.arange(0, 10)"
   ]
  },
  {
   "cell_type": "markdown",
   "metadata": {
    "slideshow": {
     "slide_type": "subslide"
    }
   },
   "source": [
    "## `zeros` and `ones`\n",
    "***\n",
    "Generate arrays of all zeros and ones"
   ]
  },
  {
   "cell_type": "code",
   "execution_count": null,
   "metadata": {
    "ExecuteTime": {
     "end_time": "2017-09-25T07:41:50.560790Z",
     "start_time": "2017-09-25T07:41:50.551198Z"
    },
    "slideshow": {
     "slide_type": "fragment"
    }
   },
   "outputs": [],
   "source": [
    "np.zeros((2, 3))"
   ]
  },
  {
   "cell_type": "code",
   "execution_count": null,
   "metadata": {
    "ExecuteTime": {
     "end_time": "2017-09-25T07:41:54.175695Z",
     "start_time": "2017-09-25T07:41:54.163510Z"
    },
    "slideshow": {
     "slide_type": "fragment"
    }
   },
   "outputs": [],
   "source": [
    "np.ones((2, 5))"
   ]
  },
  {
   "cell_type": "markdown",
   "metadata": {
    "slideshow": {
     "slide_type": "subslide"
    }
   },
   "source": [
    "## `eye`\n",
    "***\n",
    "Creates an **identity matrix** of given size. Identity matrix is one in which all the diagonal elements are 1s. Rest all of the elemnts are zeros "
   ]
  },
  {
   "cell_type": "code",
   "execution_count": null,
   "metadata": {
    "ExecuteTime": {
     "end_time": "2017-09-25T07:41:58.978231Z",
     "start_time": "2017-09-25T07:41:58.958930Z"
    },
    "slideshow": {
     "slide_type": "fragment"
    }
   },
   "outputs": [],
   "source": [
    "np.eye(4)"
   ]
  },
  {
   "cell_type": "markdown",
   "metadata": {
    "slideshow": {
     "slide_type": "subslide"
    }
   },
   "source": [
    "## `linspace`\n",
    "***\n",
    "Linspace: Return **evenly spaced** numbers over a specified interval.\n",
    "\n",
    "    linspace(start, stop, num=50, endpoint=True, retstep=False)\n",
    "\n",
    "* Will return `num` number of values\n",
    "* Equally spaced samples in the closed interval [start, stop] or the half-open interval [start, stop)\n",
    "* Closed or half-open interval depends on whether 'endpoint' is True or False."
   ]
  },
  {
   "cell_type": "code",
   "execution_count": null,
   "metadata": {
    "ExecuteTime": {
     "end_time": "2017-09-25T07:36:33.618435Z",
     "start_time": "2017-09-25T07:36:33.598881Z"
    },
    "slideshow": {
     "slide_type": "fragment"
    }
   },
   "outputs": [],
   "source": [
    "# divide into 7 interval from 0 to 10\n",
    "np.linspace(0, 10, 7)"
   ]
  },
  {
   "cell_type": "markdown",
   "metadata": {
    "slideshow": {
     "slide_type": "subslide"
    }
   },
   "source": [
    "<img src=\"../images/icon/Concept-Alert.png\" alt=\"Concept-Alert\" style=\"width: 100px;float:left; margin-right:15px\"/>\n",
    "<br />\n",
    "\n",
    "## How do I generate Random Numbers?\n",
    "***\n",
    "<br/>\n",
    "Numpy also has lots of ways to create random number arrays of given shape\n",
    "\n",
    "- **`rand`**:\n",
    "\n",
    "`numpy.random.rand(d0, d1, …, dn)` Create an array of the given shape and populate it with random samples from a **uniform distribution**\n",
    "\n",
    "- **`randn`**: \n",
    "\n",
    "`numpy.random.randn(d0, d1, …, dn)`creates an array of specified shape and fills it with random values as per **standard normal distribution**.\n",
    "\n",
    "If positive arguments are provided, randn generates an array of shape (d0, d1, …, dn), filled with random floats sampled from a univariate “normal” (Gaussian) distribution of mean 0 and variance 1 (if any of the d_i are floats, they are first converted to integers by truncation).\n",
    "\n",
    "A single float randomly sampled from the distribution is returned if no argument is provided.\n",
    "\n",
    "- **`randint`**: \n",
    "\n",
    "Return random integers from the “discrete uniform” distribution of the specified dtype in the “half-open” interval [low, high). If high is None (the default), then results are from [0, low)."
   ]
  },
  {
   "cell_type": "code",
   "execution_count": null,
   "metadata": {
    "ExecuteTime": {
     "end_time": "2017-09-25T07:37:14.957308Z",
     "start_time": "2017-09-25T07:37:14.947666Z"
    },
    "slideshow": {
     "slide_type": "fragment"
    }
   },
   "outputs": [],
   "source": [
    "# random number (uniform distribution) array of shape (3 , 4)\n",
    "\n",
    "np.random.rand(3, 4)"
   ]
  },
  {
   "cell_type": "code",
   "execution_count": null,
   "metadata": {
    "ExecuteTime": {
     "end_time": "2017-09-25T07:37:24.084591Z",
     "start_time": "2017-09-25T07:37:24.045800Z"
    },
    "slideshow": {
     "slide_type": "fragment"
    }
   },
   "outputs": [],
   "source": [
    "# random number (standard normal distribution) array of shape (2, 3)\n",
    "\n",
    "print (np.random.randn(2, 3))"
   ]
  },
  {
   "cell_type": "code",
   "execution_count": null,
   "metadata": {
    "ExecuteTime": {
     "end_time": "2017-09-25T07:33:01.212244Z",
     "start_time": "2017-09-25T07:33:01.203249Z"
    },
    "slideshow": {
     "slide_type": "fragment"
    }
   },
   "outputs": [],
   "source": [
    "# 10 random integers between 4 (inclusive) to 40 (exclusive)\n",
    "\n",
    "np.random.randint(4, 40, 10)"
   ]
  },
  {
   "cell_type": "code",
   "execution_count": null,
   "metadata": {
    "ExecuteTime": {
     "end_time": "2017-09-25T07:35:46.049621Z",
     "start_time": "2017-09-25T07:35:46.040502Z"
    },
    "slideshow": {
     "slide_type": "fragment"
    }
   },
   "outputs": [],
   "source": [
    "# 10 random integers upto 50 (exclusive). This makes the start value default to 0.\n",
    "# The size parameter dictates the return array shape\n",
    "\n",
    "np.random.randint(50, size=(4,4))"
   ]
  },
  {
   "cell_type": "code",
   "execution_count": null,
   "metadata": {},
   "outputs": [],
   "source": []
  },
  {
   "cell_type": "markdown",
   "metadata": {
    "slideshow": {
     "slide_type": "slide"
    }
   },
   "source": [
    "# Analyzing the Weather using NumPy"
   ]
  },
  {
   "cell_type": "markdown",
   "metadata": {
    "slideshow": {
     "slide_type": "subslide"
    }
   },
   "source": [
    "<center><img src=\"../images/weather.jpg\" alt=\"Weather\" style=\"width: 350px;\"/></center><br/><br/>\n",
    "Now it's time to use some of the data manipulation we've learnt to analyze a weather data set. <br/><br/>\n",
    "We'll be working with **weather_small_2012.csv**, which contains weather data for each hour in 2012.\n",
    "Since weather_small_2012.csv is a csv file, rows are separated by line breaks, and columns are\n",
    "separated by commas:"
   ]
  },
  {
   "cell_type": "markdown",
   "metadata": {
    "slideshow": {
     "slide_type": "subslide"
    }
   },
   "source": [
    "```\n",
    "Date/Time,Temp (C),Dew Point Temp (C),Rel Hum (%),Wind Spd (km/h),Visibility (km),Stn Press (kPa)\n",
    "2012-01-01 00:00:00,-1.8,-3.9,86,4,8.0,101.24\n",
    "2012-01-01 01:00:00,-1.8,-3.7,87,4,8.0,101.24\n",
    "2012-01-01 02:00:00,-1.8,-3.4,89,7,4.0,101.26\n",
    "2012-01-01 03:00:00,-1.5,-3.2,88,6,4.0,101.27\n",
    "```\n",
    "\n",
    "**To read csv file, we use:**\n",
    "\n",
    "    numpy.genfromtxt(fileName, delimeter=\",\")"
   ]
  },
  {
   "cell_type": "code",
   "execution_count": null,
   "metadata": {
    "ExecuteTime": {
     "end_time": "2017-09-25T09:15:51.307955Z",
     "start_time": "2017-09-25T09:15:51.174581Z"
    },
    "slideshow": {
     "slide_type": "subslide"
    }
   },
   "outputs": [],
   "source": [
    "# read csv file\n",
    "weather = np.genfromtxt(\"../data/weather_small_2012.csv\", delimiter=\",\")\n",
    "\n",
    "print (weather.dtype)\n",
    "print (weather)"
   ]
  },
  {
   "cell_type": "markdown",
   "metadata": {
    "slideshow": {
     "slide_type": "subslide"
    }
   },
   "source": [
    "Many items in this dataset are nan.\n",
    "\n",
    "* The entire first row is nan – headers are String.\n",
    "* Some of the numbers are written like 1.98600000e+03.\n",
    "\n",
    "The data type of world_milk is float. Because all of the values in a NumPy array have to have the same\n",
    "data type, NumPy attempted to convert all of the columns to floats when they were read in."
   ]
  },
  {
   "cell_type": "markdown",
   "metadata": {
    "slideshow": {
     "slide_type": "subslide"
    }
   },
   "source": [
    "** Reading In The Data Properly **\n",
    "\n",
    "***\n",
    "To read world_milk.csv file properly we will have to use correct data type and skip the header.\n",
    "* genfromtxt() default dtype is float, it converts non-numeric value to nan (not a number)\n",
    "* To avoid nan, we read values as |S20 (String of length 20) "
   ]
  },
  {
   "cell_type": "code",
   "execution_count": null,
   "metadata": {
    "ExecuteTime": {
     "end_time": "2017-09-25T09:25:43.473340Z",
     "start_time": "2017-09-25T09:25:43.385551Z"
    },
    "slideshow": {
     "slide_type": "fragment"
    }
   },
   "outputs": [],
   "source": [
    "weather = np.genfromtxt(\"../data/weather_small_2012.csv\", dtype='|S20', skip_header=1, delimiter=\",\")\n",
    "\n",
    "print (weather.dtype)\n",
    "print (weather[0])"
   ]
  },
  {
   "cell_type": "code",
   "execution_count": null,
   "metadata": {
    "ExecuteTime": {
     "end_time": "2017-09-25T09:42:44.653759Z",
     "start_time": "2017-09-25T09:42:44.635650Z"
    },
    "slideshow": {
     "slide_type": "subslide"
    }
   },
   "outputs": [],
   "source": [
    "# Create an array of temperatures from the data set.\n",
    "\n",
    "temperatures = weather[:,1].astype(np.float16)\n",
    "print(temperatures)\n",
    "\n",
    "dew_point_temperatures = weather[:,2].astype(np.float16)\n",
    "print(dew_point_temperatures)"
   ]
  },
  {
   "cell_type": "markdown",
   "metadata": {
    "slideshow": {
     "slide_type": "slide"
    }
   },
   "source": [
    "<img src=\"../images/icon/Concept-Alert.png\" alt=\"Concept-Alert\" style=\"width: 100px;float:left; margin-right:15px\"/>\n",
    "<br />\n",
    "\n",
    "# Operations with NumPy arrays\n",
    "<br/>\n",
    "***\n",
    "NumPy provides a lot of built-in functionality for working with arrays.\n",
    "**The important concepts to remember are**\n",
    "- Any operation with a scalar number or a scalar function will cause that operation being computed for each element\n",
    "- Any operation with two **compatible** (eg.: same shape) arrays will cause one-to-one element computations"
   ]
  },
  {
   "cell_type": "markdown",
   "metadata": {
    "slideshow": {
     "slide_type": "subslide"
    }
   },
   "source": [
    "<img src=\"../images/icon/Maths-Insight.png\" alt=\"Technical-Stuff\" style=\"width: 100px;float:left; margin-right:15px\"/>\n",
    "<br />\n",
    "\n",
    "## Arithmetic (1/2)\n",
    "***\n",
    "### Vector Arithmetic\n",
    "- All operations between arrays are **element-wise**\n",
    "- This means that if you multiply two 2d vectors, it will **NOT** perform matrix multiplication"
   ]
  },
  {
   "cell_type": "markdown",
   "metadata": {
    "slideshow": {
     "slide_type": "subslide"
    }
   },
   "source": [
    "<img src=\"../images/icon/Maths-Insight.png\" alt=\"Technical-Stuff\" style=\"width: 100px;float:left; margin-right:15px\"/>\n",
    "<br />\n",
    "\n",
    "## Arithmetic (2/2)\n",
    "***\n",
    "### Scalar Arithmetic\n",
    "- Any operation of an array with a scalar will result in **element-wise** computation of that operation\n",
    "- For example **`my_array + 2`** is the same as adding 2 to each element of array"
   ]
  },
  {
   "cell_type": "markdown",
   "metadata": {
    "ExecuteTime": {
     "end_time": "2017-09-25T08:07:19.926011Z",
     "start_time": "2017-09-25T08:07:19.915816Z"
    },
    "slideshow": {
     "slide_type": "subslide"
    }
   },
   "source": [
    "### Calculate the Temperatures from the weather dataset in Fahrenheit"
   ]
  },
  {
   "cell_type": "code",
   "execution_count": null,
   "metadata": {
    "ExecuteTime": {
     "end_time": "2017-09-25T09:40:35.470263Z",
     "start_time": "2017-09-25T09:40:35.458876Z"
    },
    "slideshow": {
     "slide_type": "fragment"
    }
   },
   "outputs": [],
   "source": [
    "farenheit = (temperatures * 9 / 5) + 32\n",
    "farenheit"
   ]
  },
  {
   "cell_type": "markdown",
   "metadata": {
    "ExecuteTime": {
     "end_time": "2017-09-25T08:07:19.926011Z",
     "start_time": "2017-09-25T08:07:19.915816Z"
    },
    "slideshow": {
     "slide_type": "subslide"
    }
   },
   "source": [
    "### Addition"
   ]
  },
  {
   "cell_type": "code",
   "execution_count": null,
   "metadata": {
    "ExecuteTime": {
     "end_time": "2017-09-25T09:43:50.347562Z",
     "start_time": "2017-09-25T09:43:50.337963Z"
    },
    "slideshow": {
     "slide_type": "fragment"
    }
   },
   "outputs": [],
   "source": [
    "# Total temperature\n",
    "\n",
    "# Vector Addition\n",
    "print(temperatures + dew_point_temperatures)\n",
    "\n",
    "# Scalar Addition\n",
    "print(temperatures + 100)"
   ]
  },
  {
   "cell_type": "markdown",
   "metadata": {
    "ExecuteTime": {
     "end_time": "2017-09-25T08:07:19.926011Z",
     "start_time": "2017-09-25T08:07:19.915816Z"
    },
    "slideshow": {
     "slide_type": "subslide"
    }
   },
   "source": [
    "### Division"
   ]
  },
  {
   "cell_type": "code",
   "execution_count": null,
   "metadata": {
    "ExecuteTime": {
     "end_time": "2017-09-25T08:29:55.596219Z",
     "start_time": "2017-09-25T08:29:55.575775Z"
    },
    "slideshow": {
     "slide_type": "fragment"
    }
   },
   "outputs": [],
   "source": [
    "array1 = np.arange(1, 10, dtype=np.float16).reshape(3, 3)\n",
    "array2 = np.arange(100, 109, dtype=np.float16).reshape(3, 3)\n",
    "\n",
    "print(array1)\n",
    "print(array2)\n",
    "\n",
    "print(array2 / array1)  # Vector Division\n",
    "print(array2 / 3)    # Scalar Division"
   ]
  },
  {
   "cell_type": "markdown",
   "metadata": {
    "slideshow": {
     "slide_type": "subslide"
    }
   },
   "source": [
    "## Comparison\n",
    "\n",
    "Comparing two numpy arrays for equality, element-wise"
   ]
  },
  {
   "cell_type": "code",
   "execution_count": null,
   "metadata": {
    "ExecuteTime": {
     "end_time": "2017-09-25T09:48:03.450206Z",
     "start_time": "2017-09-25T09:48:03.438867Z"
    },
    "slideshow": {
     "slide_type": "fragment"
    }
   },
   "outputs": [],
   "source": [
    "# Find those temperatures that are above 0 degrees Celcius\n",
    "\n",
    "greater_than_0 = temperatures > 0\n",
    "\n",
    "print(temperatures)\n",
    "print(greater_than_0)\n",
    "\n",
    "print(type(greater_than_0))\n",
    "print(greater_than_0.dtype)"
   ]
  },
  {
   "cell_type": "code",
   "execution_count": null,
   "metadata": {
    "ExecuteTime": {
     "end_time": "2017-09-25T09:56:04.050529Z",
     "start_time": "2017-09-25T09:56:04.037774Z"
    },
    "slideshow": {
     "slide_type": "fragment"
    }
   },
   "outputs": [],
   "source": [
    "arr1 = np.random.randint(1, 10, 6).reshape(2, 3)\n",
    "arr2 = np.random.randint(1, 10, 6).reshape(2, 3)\n",
    "\n",
    "print(arr1)\n",
    "print(arr2)\n",
    "\n",
    "print(arr1 >= arr2)"
   ]
  },
  {
   "cell_type": "markdown",
   "metadata": {
    "slideshow": {
     "slide_type": "subslide"
    }
   },
   "source": [
    "<img src=\"../images/icon/Technical-Stuff.png\" alt=\"Concept-Alert\" style=\"width: 100px;float:left; margin-right:15px\"/>\n",
    "<br />\n",
    "\n",
    "## Aggregation \n",
    "* **`sum()`:** Computes the sum of all the elements in a vector, or the sum along a dimension in a matrix.\n",
    "* **`mean()`:** Computes the average of all the elements in a vector, or the average along a dimension in a matrix.\n",
    "* **`max()`/`min()`:** Identifies the maximum/minimum value among all the elements in a vector, or along a dimension in a matrix.\n",
    "* **`argmax()`/`argmin()`:** Returns the index of maximum/minimum element."
   ]
  },
  {
   "cell_type": "code",
   "execution_count": null,
   "metadata": {
    "ExecuteTime": {
     "end_time": "2017-09-25T09:53:11.771013Z",
     "start_time": "2017-09-25T09:53:11.757059Z"
    },
    "slideshow": {
     "slide_type": "subslide"
    }
   },
   "outputs": [],
   "source": [
    "# Find max, min, mean temperature\n",
    "print('Max: ', temperatures.max())\n",
    "print('Min: ', temperatures.min())\n",
    "print('Mean: ', temperatures.mean())\n",
    "\n",
    "# Find index of max/min temperature\n",
    "print('Argmax: ', temperatures.argmax())\n",
    "print('Argmin: ', temperatures.argmin())"
   ]
  },
  {
   "cell_type": "markdown",
   "metadata": {},
   "source": [
    "<img src=\"../images/icon/ppt-icons.png\" alt=\"ppt-icons\" style=\"width: 100px;float:left; margin-right:15px\"/>\n",
    "<br />\n",
    "\n",
    "\n",
    "## Mini Challenge - 4  :  \n",
    "***\n",
    "Create a matrix from the list of lists [[5.3, 10.2, 15.1], [20.4, 25.3, 30.9], [35.4, 40.1,45.6]]. Print the dtype and shape. "
   ]
  },
  {
   "cell_type": "code",
   "execution_count": null,
   "metadata": {},
   "outputs": [],
   "source": []
  },
  {
   "cell_type": "markdown",
   "metadata": {},
   "source": [
    "<img src=\"../images/icon/ppt-icons.png\" alt=\"ppt-icons\" style=\"width: 100px;float:left; margin-right:15px\"/>\n",
    "<br />\n",
    "\n",
    "## Mini Challenge - 5 : \n",
    "***\n",
    "Create an ndimensional array from randomly genrated numbers of shape (3,4), then rehape the array to (4,3)\n"
   ]
  },
  {
   "cell_type": "code",
   "execution_count": null,
   "metadata": {},
   "outputs": [],
   "source": []
  },
  {
   "cell_type": "markdown",
   "metadata": {
    "slideshow": {
     "slide_type": "slide"
    }
   },
   "source": [
    "<img src=\"../images/icon/Recap.png\" alt=\"Recap\" style=\"width: 100px;float:left; margin-right:15px\"/>\n",
    "<br />\n",
    "# In-session Recap Time\n",
    "***\n",
    "- Modular Programming in Python\n",
    "    - Functions\n",
    "    - OOP: Classes, Inheritance\n",
    "\n",
    "- NumPy\n",
    "    - Creating Arrays\n",
    "    - Built-in Methods\n",
    "    - Data Manipulation\n",
    "    - Operations: Reshaping, Arithmetic, Aggregation"
   ]
  },
  {
   "cell_type": "markdown",
   "metadata": {
    "slideshow": {
     "slide_type": "slide"
    }
   },
   "source": [
    "# Thank You\n",
    "***\n",
    "### Coming up next...\n",
    "\n",
    "- Numpy Advanced: Indexing and Selection\n",
    "- Introduction to Pandas\n",
    "\n",
    "For more queries - Reach out to academics@greyatom.com "
   ]
  }
 ],
 "metadata": {
  "celltoolbar": "Slideshow",
  "kernelspec": {
   "display_name": "Python 3",
   "language": "python",
   "name": "python3"
  },
  "language_info": {
   "codemirror_mode": {
    "name": "ipython",
    "version": 3
   },
   "file_extension": ".py",
   "mimetype": "text/x-python",
   "name": "python",
   "nbconvert_exporter": "python",
   "pygments_lexer": "ipython3",
   "version": "3.6.5"
  },
  "toc": {
   "colors": {
    "hover_highlight": "#DAA520",
    "running_highlight": "#FF0000",
    "selected_highlight": "#FFD700"
   },
   "moveMenuLeft": true,
   "nav_menu": {
    "height": "399px",
    "width": "252px"
   },
   "navigate_menu": true,
   "number_sections": true,
   "sideBar": true,
   "threshold": "2",
   "toc_cell": false,
   "toc_position": {
    "height": "664px",
    "left": "0px",
    "right": "1388px",
    "top": "107px",
    "width": "212px"
   },
   "toc_section_display": "block",
   "toc_window_display": false
  },
  "widgets": {
   "state": {},
   "version": "1.1.2"
  }
 },
 "nbformat": 4,
 "nbformat_minor": 2
}
